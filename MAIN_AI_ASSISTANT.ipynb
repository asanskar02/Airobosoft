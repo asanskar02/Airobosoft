{
 "cells": [
  {
   "cell_type": "code",
   "execution_count": 1,
   "metadata": {},
   "outputs": [],
   "source": [
    "import os\n",
    "import time\n",
    "import subprocess\n",
    "import json"
   ]
  },
  {
   "cell_type": "code",
   "execution_count": 2,
   "metadata": {},
   "outputs": [],
   "source": [
    "import wolframalpha\n",
    "import requests\n",
    "import webbrowser\n",
    "import wikipedia\n",
    "import datetime\n"
   ]
  },
  {
   "cell_type": "code",
   "execution_count": 3,
   "metadata": {},
   "outputs": [],
   "source": [
    "import speech_recognition as sr\n",
    "import pyttsx3"
   ]
  },
  {
   "cell_type": "code",
   "execution_count": 4,
   "metadata": {},
   "outputs": [
    {
     "name": "stdout",
     "output_type": "stream",
     "text": [
      "LOADING YOUR AI PERSONAL ASSISTANT MR. sanskar\n"
     ]
    }
   ],
   "source": [
    "print('LOADING YOUR AI PERSONAL ASSISTANT MR. sanskar')"
   ]
  },
  {
   "cell_type": "code",
   "execution_count": 5,
   "metadata": {},
   "outputs": [],
   "source": [
    "engine = pyttsx3.init('sapi5')\n",
    "voice = engine.getProperty('voice')\n",
    "engine.setProperty = (\"voice\",'voice[1].id')"
   ]
  },
  {
   "cell_type": "code",
   "execution_count": 6,
   "metadata": {},
   "outputs": [],
   "source": [
    "def speak(text):\n",
    "    engine.say(text)\n",
    "    engine.runAndWait()\n",
    "   "
   ]
  },
  {
   "cell_type": "code",
   "execution_count": 7,
   "metadata": {},
   "outputs": [],
   "source": [
    "def wishMe():\n",
    "    hour = datetime.datetime.now().hour\n",
    "    if hour>=0 and hour<12:\n",
    "        speak(\"Good Morning SANSKAR, have a great day\")\n",
    "        print(\"Good Morning SANSKAR, have a great day\")\n",
    "    elif hour>=12 and hour<=18:\n",
    "        speak(\"Good Afternoon SANSKAR, hope you had wonderful morning\")\n",
    "        print(\"Good Afternoon SANSKAR, hope you had wonderful morning\")\n",
    "    else:\n",
    "        speak(\"Hope you had a fruitful day, It's time to sleep now. Good night SANSKAR\")\n",
    "        print(\"Hope you had a fruitful day, It's time to sleep now. Good night SANSKAR\")"
   ]
  },
  {
   "cell_type": "code",
   "execution_count": 8,
   "metadata": {},
   "outputs": [],
   "source": [
    "def takeCommand():\n",
    "    r = sr.Recognizer()\n",
    "    with sr.Microphone() as source:\n",
    "        print(\"Listening...\")\n",
    "        r.pause_threshold = 1\n",
    "        audio = r.listen(source)\n",
    "        \n",
    "    try:\n",
    "        print(\"Recognizing...\")\n",
    "        statement = r.recognize_google(audio, language ='en-in')\n",
    "        print(f\"User said: {statement}\\n\")\n",
    "    except Exception as e:\n",
    "        print(e)\n",
    "        print(\"Unable to recognize your voice. Can you say it again\")\n",
    "        speak(\"Unable to recognize your voice. Can you say it again\")\n",
    "        return \"None\"\n",
    "    return statement\n",
    "        \n",
    "              "
   ]
  },
  {
   "cell_type": "code",
   "execution_count": 9,
   "metadata": {},
   "outputs": [
    {
     "name": "stdout",
     "output_type": "stream",
     "text": [
      "Good Morning SANSKAR, have a great day\n"
     ]
    }
   ],
   "source": [
    "speak('LOADING YOUR AI PERSONAL ASSISTANT Fox')\n",
    "wishMe()"
   ]
  },
  {
   "cell_type": "code",
   "execution_count": null,
   "metadata": {},
   "outputs": [
    {
     "name": "stdout",
     "output_type": "stream",
     "text": [
      "Listening...\n"
     ]
    }
   ],
   "source": [
    "if __name__ == \"__main__\":\n",
    "    while True:\n",
    "        speak(\"Hi SANSKAR, How can I help you?\")\n",
    "        statement = takeCommand().lower()\n",
    "        if statement==0:\n",
    "            continue\n",
    "            \n",
    "        if \"Good Bye\" in statement or \"ok bye\" in statement or \"stop\" in statement:\n",
    "            speak(\"Your Personal AI Assistant fox is Shutting down, Good Bye\")\n",
    "            print(\"Your Personal AI Assistant fox is Shutting down, Good Bye\")\n",
    "            \n",
    "            break\n",
    "            \n",
    "        if \"wikipedia\" in statement:\n",
    "            speak(\"Searching Wikipedia..\")\n",
    "            statement = statement.replace(\"wikipedia\",\" \")\n",
    "            results = wikipedia.summary(statement,sentences = 5)\n",
    "            speak(\"According to wikipedia...\")\n",
    "            print(results)\n",
    "            speak(results)\n",
    "            \n",
    "        elif \"open youtube\" in statement:\n",
    "            webbrowser.open_new_tab(\"https://www.youtube.com\")\n",
    "            speak(\"Youtube is open for you\")\n",
    "            time.sleep(5)\n",
    "            \n",
    "        elif \"open google\" in statement:\n",
    "            webbrowser.open_new_tab(\"https://www.google.com\")\n",
    "            speak(\"Google search is open for you\")\n",
    "            time.sleep(5)\n",
    "            \n",
    "        elif \"open gmail\" in statement:\n",
    "            webbrowser.open_new_tab(\"gmail.com\")\n",
    "            speak(\"Gmail is open for you\")\n",
    "            time.sleep(5)\n",
    "            \n",
    "        elif \"weather\" in statement:\n",
    "            api_key = '8ef61edcf1c576d65d836254e11ea420'\n",
    "            base_url = 'https://api.openweathermap.org/data/2.5/weather?'\n",
    "            speak(\"What's the city name\")\n",
    "            city_name = takeCommand()\n",
    "            complete_url = base_url + \"appid = \"+ api_key + \"&q=\" + city_name\n",
    "            response = requests.get(complete_url)\n",
    "            p = response.json()\n",
    "            if p[\"cod\"] != \"404\":\n",
    "                q = p[\"main\"]\n",
    "                current_temperature = q[\"temp\"]\n",
    "                current_humidity = q[\"humidity\"]\n",
    "                r = p[\"weather\"]\n",
    "                weather_desc = r[0][\"description\"]\n",
    "                speak(\"The temperature is \" + str(current_temperature) + \"\\nThe humidity in percentage is \" + str(current_humidity) + \"\\n The weather description is \" + str(weather_desc))\n",
    "                print(\"The temperature is \" + str(current_temperature) + \"\\nThe humidity in percentage is \" + str(current_humidity) + \"\\n The weather description is \" + str(weather_desc))\n",
    "            else:\n",
    "                speak(\"city not found\")\n",
    "                print(\"city not found\")\n",
    "                \n",
    "        elif \"time\" in statement:\n",
    "            strTime = datetime.datetime.now().strftime(\"%H:%M:%S\")\n",
    "            speak(f\"The Time is {strTime}\")\n",
    "        \n",
    "        elif \"who are you\" in statement or \"what can you do for me\" in statement:\n",
    "            speak(\"I am Fox version 1.O your personal AI Assistant. I am programmed to do minor tasks like check weather, search on wikipedia,open mails,switch on smart tv, get news,predict time, take a picture\")\n",
    "        \n",
    "        elif \"who made you\" in statement or \"who discovered you\" in statement or \"who created you\" in statement:\n",
    "            speak(\"i was build by Dr.sanskar\")\n",
    "            print(\"i was build by Dr.sanskar\")\n",
    "        \n",
    "        elif \"news\" in statement:\n",
    "            news = webbrowser.open_new_tab(\"https://www.deccanherald.com/home/headlines\")\n",
    "            speak(\"Here's some headlines for you - Happy Reading\")\n",
    "            time.sleep(10)\n",
    "        \n",
    "        elif \"search\" in statement:\n",
    "            statement = statement.replace(\"search\",\" \")\n",
    "            webbrowser.open_new_tab(\"statement\")\n",
    "            time.sleep(5)\n",
    "            \n",
    "        elif \"screenshot\" in statement:\n",
    "            screenshot()\n",
    "            speak(\"Successfully took screenshot\")\n",
    "        \n",
    "        elif \"ask\" in statement:\n",
    "            speak(\"I can answer computational and geographical questions too. Just say me!!. what do you want me to ask?\")\n",
    "            app_id = \"R2K75H-7ELALHR35X\"\n",
    "            client = wolframalpha.Client(app_id)\n",
    "            indx = statement.lower().split().index(\"ask\")\n",
    "            statement = statement.split()[indx + 1:]\n",
    "            result = client.query(\"question\")\n",
    "            answer = next(result.results).text\n",
    "            speak(answer)\n",
    "            print(answer)\n",
    "        \n",
    "        elif \"Log of\" in statement or \"Sign out\" in statement or \"shut down\" in statement:\n",
    "            speak(\"Yeah, Sure. Your PC will shut down in 10 seconds. Make sure you have saved all your files and exit from all applications\")\n",
    "            subprocess.call(['shutdown',\"/1\"])\n",
    "        \n",
    "time.sleep(5)        \n",
    "    \n",
    "                \n",
    "            \n",
    "            "
   ]
  },
  {
   "cell_type": "code",
   "execution_count": null,
   "metadata": {},
   "outputs": [],
   "source": []
  },
  {
   "cell_type": "code",
   "execution_count": null,
   "metadata": {},
   "outputs": [],
   "source": []
  },
  {
   "cell_type": "code",
   "execution_count": null,
   "metadata": {},
   "outputs": [],
   "source": []
  },
  {
   "cell_type": "code",
   "execution_count": null,
   "metadata": {},
   "outputs": [],
   "source": []
  }
 ],
 "metadata": {
  "kernelspec": {
   "display_name": "Python 3",
   "language": "python",
   "name": "python3"
  },
  "language_info": {
   "codemirror_mode": {
    "name": "ipython",
    "version": 3
   },
   "file_extension": ".py",
   "mimetype": "text/x-python",
   "name": "python",
   "nbconvert_exporter": "python",
   "pygments_lexer": "ipython3",
   "version": "3.8.5"
  }
 },
 "nbformat": 4,
 "nbformat_minor": 4
}
